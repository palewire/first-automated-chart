{
 "cells": [
  {
   "cell_type": "code",
   "execution_count": 1,
   "id": "c996d8d8",
   "metadata": {},
   "outputs": [
    {
     "name": "stdout",
     "output_type": "stream",
     "text": [
      "env: DATAWRAPPER_ACCESS_TOKEN=wipY6cR8MyXWneH2RGbDemNjJalcZmpz4xaZOtgjr5DeTgRp0O04yZuQWby1lTsX\n"
     ]
    }
   ],
   "source": [
    "%env DATAWRAPPER_ACCESS_TOKEN=wipY6cR8MyXWneH2RGbDemNjJalcZmpz4xaZOtgjr5DeTgRp0O04yZuQWby1lTsX"
   ]
  },
  {
   "cell_type": "code",
   "execution_count": 2,
   "id": "ae2e7c90-3adc-48d1-ba30-eea39815f2e9",
   "metadata": {},
   "outputs": [],
   "source": [
    "import datawrapper as dw"
   ]
  },
  {
   "cell_type": "code",
   "execution_count": 3,
   "id": "e5d9b11a",
   "metadata": {},
   "outputs": [
    {
     "data": {
      "text/plain": [
       "'2.0.2'"
      ]
     },
     "execution_count": 3,
     "metadata": {},
     "output_type": "execute_result"
    }
   ],
   "source": [
    "dw.__version__"
   ]
  },
  {
   "cell_type": "code",
   "execution_count": 4,
   "id": "def590f9",
   "metadata": {},
   "outputs": [
    {
     "data": {
      "text/plain": [
       "'wipY6cR8MyXWneH2RGbDemNjJalcZmpz4xaZOtgjr5DeTgRp0O04yZuQWby1lTsX'"
      ]
     },
     "execution_count": 4,
     "metadata": {},
     "output_type": "execute_result"
    }
   ],
   "source": [
    "import os\n",
    "os.getenv(\"DATAWRAPPER_ACCESS_TOKEN\")"
   ]
  },
  {
   "cell_type": "code",
   "execution_count": 5,
   "id": "006b2fb3-9189-4c66-a62f-2b4eaac08456",
   "metadata": {},
   "outputs": [
    {
     "data": {
      "text/plain": [
       "{'id': 182176,\n",
       " 'email': 'b@palewi.re',\n",
       " 'name': 'Test user',\n",
       " 'role': 'editor',\n",
       " 'language': 'en-US',\n",
       " 'presenceColor': 'color-dw-presence-90',\n",
       " 'avatar': None,\n",
       " 'customAvatar': None,\n",
       " 'teams': [{'id': '5TyD7GtQ',\n",
       "   'name': 'Test Team',\n",
       "   'url': '/v3/teams/5TyD7GtQ',\n",
       "   'active': True}],\n",
       " 'workspaces': [{'slug': 'XphsSLAUvT',\n",
       "   'name': 'Test user',\n",
       "   'color': 'color-dw-presence-90',\n",
       "   'personalAppearance': True}],\n",
       " 'chartCount': 16750,\n",
       " 'url': '/v3/users/182176',\n",
       " 'activeTeam': '5TyD7GtQ'}"
      ]
     },
     "execution_count": 5,
     "metadata": {},
     "output_type": "execute_result"
    }
   ],
   "source": [
    "dw.Datawrapper().get_my_account()"
   ]
  },
  {
   "cell_type": "code",
   "execution_count": 6,
   "id": "b9559b60-1146-4b0b-a348-cf1ea647dad9",
   "metadata": {},
   "outputs": [],
   "source": [
    "import pandas as pd"
   ]
  },
  {
   "cell_type": "code",
   "execution_count": 7,
   "id": "74f80540-9335-4c5e-9c58-30c9deddbce2",
   "metadata": {},
   "outputs": [],
   "source": [
    "df = pd.read_csv(\n",
    "    \"https://raw.githubusercontent.com/palewire/first-automated-chart/main/_notebooks/arrests.csv\",\n",
    "    parse_dates=[\"ArrestDateTime\"]\n",
    ")"
   ]
  },
  {
   "cell_type": "code",
   "execution_count": 8,
   "id": "97820111-e185-43e6-bcf8-6b57e9c5b50d",
   "metadata": {},
   "outputs": [
    {
     "data": {
      "text/html": [
       "<div>\n",
       "<style scoped>\n",
       "    .dataframe tbody tr th:only-of-type {\n",
       "        vertical-align: middle;\n",
       "    }\n",
       "\n",
       "    .dataframe tbody tr th {\n",
       "        vertical-align: top;\n",
       "    }\n",
       "\n",
       "    .dataframe thead th {\n",
       "        text-align: right;\n",
       "    }\n",
       "</style>\n",
       "<table border=\"1\" class=\"dataframe\">\n",
       "  <thead>\n",
       "    <tr style=\"text-align: right;\">\n",
       "      <th></th>\n",
       "      <th>RowID</th>\n",
       "      <th>X</th>\n",
       "      <th>Y</th>\n",
       "      <th>IncidentNumber</th>\n",
       "      <th>ArrestNumber</th>\n",
       "      <th>Age</th>\n",
       "      <th>Gender</th>\n",
       "      <th>Race</th>\n",
       "      <th>ArrestDateTime</th>\n",
       "      <th>ArrestLocation</th>\n",
       "      <th>...</th>\n",
       "      <th>ChargeDescription</th>\n",
       "      <th>District</th>\n",
       "      <th>Post</th>\n",
       "      <th>Neighborhood</th>\n",
       "      <th>Latitude</th>\n",
       "      <th>Longitude</th>\n",
       "      <th>GeoLocation</th>\n",
       "      <th>Shape</th>\n",
       "      <th>Year</th>\n",
       "      <th>year</th>\n",
       "    </tr>\n",
       "  </thead>\n",
       "  <tbody>\n",
       "    <tr>\n",
       "      <th>0</th>\n",
       "      <td>29</td>\n",
       "      <td>1.401347e+06</td>\n",
       "      <td>608148.870493</td>\n",
       "      <td>22L09338</td>\n",
       "      <td>23000037.0</td>\n",
       "      <td>39.0</td>\n",
       "      <td>M</td>\n",
       "      <td>B</td>\n",
       "      <td>2022-12-31 23:50:00</td>\n",
       "      <td>4000 OAKFORD ST</td>\n",
       "      <td>...</td>\n",
       "      <td>HAND GUN VIOLATION</td>\n",
       "      <td>Northwest</td>\n",
       "      <td>621.0</td>\n",
       "      <td>West Arlington</td>\n",
       "      <td>39.3361</td>\n",
       "      <td>-76.6853</td>\n",
       "      <td>(39.3361,-76.6853)</td>\n",
       "      <td>NaN</td>\n",
       "      <td>2022</td>\n",
       "      <td>2022</td>\n",
       "    </tr>\n",
       "    <tr>\n",
       "      <th>1</th>\n",
       "      <td>30</td>\n",
       "      <td>1.401347e+06</td>\n",
       "      <td>608148.870493</td>\n",
       "      <td>22L09338</td>\n",
       "      <td>23000039.0</td>\n",
       "      <td>50.0</td>\n",
       "      <td>M</td>\n",
       "      <td>B</td>\n",
       "      <td>2022-12-31 23:50:00</td>\n",
       "      <td>4000 OAKFORD ST</td>\n",
       "      <td>...</td>\n",
       "      <td>HAND GUN VIOLATION</td>\n",
       "      <td>Northwest</td>\n",
       "      <td>621.0</td>\n",
       "      <td>West Arlington</td>\n",
       "      <td>39.3361</td>\n",
       "      <td>-76.6853</td>\n",
       "      <td>(39.3361,-76.6853)</td>\n",
       "      <td>NaN</td>\n",
       "      <td>2022</td>\n",
       "      <td>2022</td>\n",
       "    </tr>\n",
       "    <tr>\n",
       "      <th>2</th>\n",
       "      <td>31</td>\n",
       "      <td>NaN</td>\n",
       "      <td>NaN</td>\n",
       "      <td>NaN</td>\n",
       "      <td>23000010.0</td>\n",
       "      <td>27.0</td>\n",
       "      <td>M</td>\n",
       "      <td>B</td>\n",
       "      <td>2022-12-31 23:40:00</td>\n",
       "      <td>NaN</td>\n",
       "      <td>...</td>\n",
       "      <td>FAILURE TO APPEAR</td>\n",
       "      <td>NaN</td>\n",
       "      <td>NaN</td>\n",
       "      <td>NaN</td>\n",
       "      <td>NaN</td>\n",
       "      <td>NaN</td>\n",
       "      <td>(,)</td>\n",
       "      <td>NaN</td>\n",
       "      <td>2022</td>\n",
       "      <td>2022</td>\n",
       "    </tr>\n",
       "    <tr>\n",
       "      <th>3</th>\n",
       "      <td>32</td>\n",
       "      <td>1.417636e+06</td>\n",
       "      <td>595206.835862</td>\n",
       "      <td>22L09343</td>\n",
       "      <td>23000050.0</td>\n",
       "      <td>42.0</td>\n",
       "      <td>M</td>\n",
       "      <td>B</td>\n",
       "      <td>2022-12-31 23:15:00</td>\n",
       "      <td>500 DOLPHIN ST</td>\n",
       "      <td>...</td>\n",
       "      <td>HAND GUN VIOLATION</td>\n",
       "      <td>Central</td>\n",
       "      <td>123.0</td>\n",
       "      <td>Upton</td>\n",
       "      <td>39.3004</td>\n",
       "      <td>-76.6279</td>\n",
       "      <td>(39.3004,-76.6279)</td>\n",
       "      <td>NaN</td>\n",
       "      <td>2022</td>\n",
       "      <td>2022</td>\n",
       "    </tr>\n",
       "    <tr>\n",
       "      <th>4</th>\n",
       "      <td>33</td>\n",
       "      <td>NaN</td>\n",
       "      <td>NaN</td>\n",
       "      <td>22L09312</td>\n",
       "      <td>22157183.0</td>\n",
       "      <td>43.0</td>\n",
       "      <td>F</td>\n",
       "      <td>W</td>\n",
       "      <td>2022-12-31 21:00:00</td>\n",
       "      <td>1500 BECKLOW AVE</td>\n",
       "      <td>...</td>\n",
       "      <td>STOLEN AUTO</td>\n",
       "      <td>NaN</td>\n",
       "      <td>NaN</td>\n",
       "      <td>NaN</td>\n",
       "      <td>NaN</td>\n",
       "      <td>NaN</td>\n",
       "      <td>(,)</td>\n",
       "      <td>NaN</td>\n",
       "      <td>2022</td>\n",
       "      <td>2022</td>\n",
       "    </tr>\n",
       "  </tbody>\n",
       "</table>\n",
       "<p>5 rows × 23 columns</p>\n",
       "</div>"
      ],
      "text/plain": [
       "   RowID             X              Y IncidentNumber  ArrestNumber   Age  \\\n",
       "0     29  1.401347e+06  608148.870493       22L09338    23000037.0  39.0   \n",
       "1     30  1.401347e+06  608148.870493       22L09338    23000039.0  50.0   \n",
       "2     31           NaN            NaN            NaN    23000010.0  27.0   \n",
       "3     32  1.417636e+06  595206.835862       22L09343    23000050.0  42.0   \n",
       "4     33           NaN            NaN       22L09312    22157183.0  43.0   \n",
       "\n",
       "  Gender Race      ArrestDateTime    ArrestLocation  ...   ChargeDescription  \\\n",
       "0      M    B 2022-12-31 23:50:00   4000 OAKFORD ST  ...  HAND GUN VIOLATION   \n",
       "1      M    B 2022-12-31 23:50:00   4000 OAKFORD ST  ...  HAND GUN VIOLATION   \n",
       "2      M    B 2022-12-31 23:40:00               NaN  ...   FAILURE TO APPEAR   \n",
       "3      M    B 2022-12-31 23:15:00    500 DOLPHIN ST  ...  HAND GUN VIOLATION   \n",
       "4      F    W 2022-12-31 21:00:00  1500 BECKLOW AVE  ...         STOLEN AUTO   \n",
       "\n",
       "    District   Post    Neighborhood Latitude  Longitude         GeoLocation  \\\n",
       "0  Northwest  621.0  West Arlington  39.3361   -76.6853  (39.3361,-76.6853)   \n",
       "1  Northwest  621.0  West Arlington  39.3361   -76.6853  (39.3361,-76.6853)   \n",
       "2        NaN    NaN             NaN      NaN        NaN                 (,)   \n",
       "3    Central  123.0           Upton  39.3004   -76.6279  (39.3004,-76.6279)   \n",
       "4        NaN    NaN             NaN      NaN        NaN                 (,)   \n",
       "\n",
       "   Shape  Year  year  \n",
       "0    NaN  2022  2022  \n",
       "1    NaN  2022  2022  \n",
       "2    NaN  2022  2022  \n",
       "3    NaN  2022  2022  \n",
       "4    NaN  2022  2022  \n",
       "\n",
       "[5 rows x 23 columns]"
      ]
     },
     "execution_count": 8,
     "metadata": {},
     "output_type": "execute_result"
    }
   ],
   "source": [
    "df.head()"
   ]
  },
  {
   "cell_type": "code",
   "execution_count": 9,
   "id": "2927ad1a-5ede-464c-b7c7-083fb6371009",
   "metadata": {},
   "outputs": [],
   "source": [
    "df['year'] = df.ArrestDateTime.dt.year"
   ]
  },
  {
   "cell_type": "code",
   "execution_count": 10,
   "id": "6b4df473-bab5-4b00-9d9a-66fb59e77150",
   "metadata": {},
   "outputs": [],
   "source": [
    "total_by_year = df.year.value_counts().sort_index().reset_index()"
   ]
  },
  {
   "cell_type": "code",
   "execution_count": 11,
   "id": "56afe715-53f0-4aa0-8102-0efdb025f628",
   "metadata": {},
   "outputs": [
    {
     "data": {
      "text/html": [
       "<div>\n",
       "<style scoped>\n",
       "    .dataframe tbody tr th:only-of-type {\n",
       "        vertical-align: middle;\n",
       "    }\n",
       "\n",
       "    .dataframe tbody tr th {\n",
       "        vertical-align: top;\n",
       "    }\n",
       "\n",
       "    .dataframe thead th {\n",
       "        text-align: right;\n",
       "    }\n",
       "</style>\n",
       "<table border=\"1\" class=\"dataframe\">\n",
       "  <thead>\n",
       "    <tr style=\"text-align: right;\">\n",
       "      <th></th>\n",
       "      <th>year</th>\n",
       "      <th>count</th>\n",
       "    </tr>\n",
       "  </thead>\n",
       "  <tbody>\n",
       "    <tr>\n",
       "      <th>0</th>\n",
       "      <td>2010</td>\n",
       "      <td>45224</td>\n",
       "    </tr>\n",
       "    <tr>\n",
       "      <th>1</th>\n",
       "      <td>2011</td>\n",
       "      <td>43364</td>\n",
       "    </tr>\n",
       "    <tr>\n",
       "      <th>2</th>\n",
       "      <td>2012</td>\n",
       "      <td>42333</td>\n",
       "    </tr>\n",
       "    <tr>\n",
       "      <th>3</th>\n",
       "      <td>2013</td>\n",
       "      <td>39542</td>\n",
       "    </tr>\n",
       "    <tr>\n",
       "      <th>4</th>\n",
       "      <td>2014</td>\n",
       "      <td>37078</td>\n",
       "    </tr>\n",
       "    <tr>\n",
       "      <th>5</th>\n",
       "      <td>2015</td>\n",
       "      <td>25732</td>\n",
       "    </tr>\n",
       "    <tr>\n",
       "      <th>6</th>\n",
       "      <td>2016</td>\n",
       "      <td>23089</td>\n",
       "    </tr>\n",
       "    <tr>\n",
       "      <th>7</th>\n",
       "      <td>2017</td>\n",
       "      <td>21989</td>\n",
       "    </tr>\n",
       "    <tr>\n",
       "      <th>8</th>\n",
       "      <td>2018</td>\n",
       "      <td>20543</td>\n",
       "    </tr>\n",
       "    <tr>\n",
       "      <th>9</th>\n",
       "      <td>2019</td>\n",
       "      <td>19407</td>\n",
       "    </tr>\n",
       "    <tr>\n",
       "      <th>10</th>\n",
       "      <td>2020</td>\n",
       "      <td>13162</td>\n",
       "    </tr>\n",
       "    <tr>\n",
       "      <th>11</th>\n",
       "      <td>2021</td>\n",
       "      <td>11130</td>\n",
       "    </tr>\n",
       "    <tr>\n",
       "      <th>12</th>\n",
       "      <td>2022</td>\n",
       "      <td>12360</td>\n",
       "    </tr>\n",
       "    <tr>\n",
       "      <th>13</th>\n",
       "      <td>2023</td>\n",
       "      <td>13566</td>\n",
       "    </tr>\n",
       "  </tbody>\n",
       "</table>\n",
       "</div>"
      ],
      "text/plain": [
       "    year  count\n",
       "0   2010  45224\n",
       "1   2011  43364\n",
       "2   2012  42333\n",
       "3   2013  39542\n",
       "4   2014  37078\n",
       "5   2015  25732\n",
       "6   2016  23089\n",
       "7   2017  21989\n",
       "8   2018  20543\n",
       "9   2019  19407\n",
       "10  2020  13162\n",
       "11  2021  11130\n",
       "12  2022  12360\n",
       "13  2023  13566"
      ]
     },
     "execution_count": 11,
     "metadata": {},
     "output_type": "execute_result"
    }
   ],
   "source": [
    "total_by_year"
   ]
  },
  {
   "cell_type": "code",
   "execution_count": 16,
   "id": "a84a77d3-83c9-408e-9916-2c185a33283c",
   "metadata": {},
   "outputs": [],
   "source": [
    "chart = dw.ColumnChart(\n",
    "    title=\"Baltimore Arrests\",\n",
    "    data=total_by_year\n",
    ")"
   ]
  },
  {
   "cell_type": "code",
   "execution_count": 17,
   "id": "ed467ec6-67ea-4984-a600-c36e9c6ff555",
   "metadata": {},
   "outputs": [
    {
     "data": {
      "text/plain": [
       "'eJl50'"
      ]
     },
     "execution_count": 17,
     "metadata": {},
     "output_type": "execute_result"
    }
   ],
   "source": [
    "chart.create()"
   ]
  },
  {
   "cell_type": "code",
   "execution_count": 18,
   "id": "59247d9e-b8da-4dbc-bba1-0fa45c6da8cd",
   "metadata": {},
   "outputs": [
    {
     "data": {
      "text/plain": [
       "True"
      ]
     },
     "execution_count": 18,
     "metadata": {},
     "output_type": "execute_result"
    }
   ],
   "source": [
    "chart.publish()"
   ]
  },
  {
   "cell_type": "code",
   "execution_count": 19,
   "id": "8e25af0b-1446-4be2-880a-72ecda7f0a5b",
   "metadata": {},
   "outputs": [
    {
     "data": {
      "text/html": [
       "\n",
       "        <iframe\n",
       "            width=\"600\"\n",
       "            height=\"400\"\n",
       "            src=\"https://datawrapper.dwcdn.net/eJl50/1/\"\n",
       "            frameborder=\"0\"\n",
       "            allowfullscreen\n",
       "            \n",
       "        ></iframe>\n",
       "        "
      ],
      "text/plain": [
       "<IPython.lib.display.IFrame at 0x7fbd191d8d50>"
      ]
     },
     "execution_count": 19,
     "metadata": {},
     "output_type": "execute_result"
    }
   ],
   "source": [
    "chart.display()"
   ]
  },
  {
   "cell_type": "code",
   "execution_count": 20,
   "id": "a8ef86d2-76f4-4e4c-9638-20e4711ba804",
   "metadata": {},
   "outputs": [
    {
     "data": {
      "text/plain": [
       "'eJl50'"
      ]
     },
     "execution_count": 20,
     "metadata": {},
     "output_type": "execute_result"
    }
   ],
   "source": [
    "chart.source_name = \"OpenBaltimore\"\n",
    "chart.source_url = \"https://data.baltimorecity.gov/datasets/baltimore::bpd-arrests/about\"\n",
    "chart.byline = \"First Automated Chart\"\n",
    "chart.update()"
   ]
  },
  {
   "cell_type": "code",
   "execution_count": 21,
   "id": "25b1bbfa-2426-437b-9011-2391ec3e8b12",
   "metadata": {},
   "outputs": [
    {
     "data": {
      "text/plain": [
       "True"
      ]
     },
     "execution_count": 21,
     "metadata": {},
     "output_type": "execute_result"
    }
   ],
   "source": [
    "chart.publish()"
   ]
  },
  {
   "cell_type": "code",
   "execution_count": 22,
   "id": "2890e237-7fef-44b5-950a-b61256bd1f78",
   "metadata": {},
   "outputs": [
    {
     "data": {
      "text/html": [
       "\n",
       "        <iframe\n",
       "            width=\"600\"\n",
       "            height=\"400\"\n",
       "            src=\"https://datawrapper.dwcdn.net/eJl50/2/\"\n",
       "            frameborder=\"0\"\n",
       "            allowfullscreen\n",
       "            \n",
       "        ></iframe>\n",
       "        "
      ],
      "text/plain": [
       "<IPython.lib.display.IFrame at 0x7fbd191da5d0>"
      ]
     },
     "execution_count": 22,
     "metadata": {},
     "output_type": "execute_result"
    }
   ],
   "source": [
    "chart.display()"
   ]
  },
  {
   "cell_type": "code",
   "execution_count": 23,
   "id": "bc7d1f69-fe4b-4671-a4d8-f84489502c04",
   "metadata": {},
   "outputs": [],
   "source": [
    "chart.base_color = \"#bf7836\"  # Our accent color"
   ]
  },
  {
   "cell_type": "code",
   "execution_count": 24,
   "id": "a6438bd0-35e1-4abb-821c-659e09a373bf",
   "metadata": {},
   "outputs": [
    {
     "data": {
      "text/plain": [
       "'eJl50'"
      ]
     },
     "execution_count": 24,
     "metadata": {},
     "output_type": "execute_result"
    }
   ],
   "source": [
    "chart.update()"
   ]
  },
  {
   "cell_type": "code",
   "execution_count": 25,
   "id": "011176ad-4c02-41fb-9e0c-04bfbe562500",
   "metadata": {},
   "outputs": [
    {
     "data": {
      "text/plain": [
       "True"
      ]
     },
     "execution_count": 25,
     "metadata": {},
     "output_type": "execute_result"
    }
   ],
   "source": [
    "chart.publish()"
   ]
  },
  {
   "cell_type": "code",
   "execution_count": 26,
   "id": "7e684f99-b01b-4327-993f-2fcea4e73e14",
   "metadata": {},
   "outputs": [
    {
     "data": {
      "text/html": [
       "\n",
       "        <iframe\n",
       "            width=\"600\"\n",
       "            height=\"400\"\n",
       "            src=\"https://datawrapper.dwcdn.net/eJl50/3/\"\n",
       "            frameborder=\"0\"\n",
       "            allowfullscreen\n",
       "            \n",
       "        ></iframe>\n",
       "        "
      ],
      "text/plain": [
       "<IPython.lib.display.IFrame at 0x7fbd0f8ad550>"
      ]
     },
     "execution_count": 26,
     "metadata": {},
     "output_type": "execute_result"
    }
   ],
   "source": [
    "chart.display()"
   ]
  },
  {
   "cell_type": "code",
   "execution_count": 27,
   "id": "130ccac7-e466-4b51-b6f2-26380890d727",
   "metadata": {},
   "outputs": [
    {
     "data": {
      "text/plain": [
       "District\n",
       "Western      29842\n",
       "Central      28501\n",
       "Eastern      28114\n",
       "Southern     25780\n",
       "Northeast    24180\n",
       "Southeast    23710\n",
       "Northwest    22044\n",
       "Southwest    21822\n",
       "Northern     13087\n",
       "Name: count, dtype: int64"
      ]
     },
     "execution_count": 27,
     "metadata": {},
     "output_type": "execute_result"
    }
   ],
   "source": [
    "df.District.value_counts()"
   ]
  },
  {
   "cell_type": "code",
   "execution_count": 28,
   "id": "bbe4c5f9-a605-4f7b-a463-5ecac3ec5cdd",
   "metadata": {},
   "outputs": [],
   "source": [
    "def create_chart(district: str):\n",
    "    district_df = df[df.District == district]\n",
    "    district_by_year = district_df.year.value_counts().sort_index().reset_index()\n",
    "    # Create the chart with Datawrapper\n",
    "    chart = dw.ColumnChart(\n",
    "        # Use the district name in the title\n",
    "        title=f\"Arrests in Baltimore's {district} District\",\n",
    "        # Pass in the filtered data\n",
    "        data=district_by_year,\n",
    "        base_color=\"#bf7836\",\n",
    "        source_name=\"OpenBaltimore\",\n",
    "        source_url=\"https://data.baltimorecity.gov/datasets/baltimore::bpd-arrests/about\",\n",
    "        byline=\"First Automated Chart\",\n",
    "    )\n",
    "    \n",
    "    # Create the chart\n",
    "    chart.create()\n",
    "\n",
    "    # Publish the chart\n",
    "    chart.publish()\n",
    "\n",
    "    # Return the chart's embed code\n",
    "    return chart.display()"
   ]
  },
  {
   "cell_type": "code",
   "execution_count": 29,
   "id": "c860ff83-2072-4664-92ce-6816522a2e26",
   "metadata": {},
   "outputs": [
    {
     "data": {
      "text/html": [
       "\n",
       "        <iframe\n",
       "            width=\"600\"\n",
       "            height=\"400\"\n",
       "            src=\"https://datawrapper.dwcdn.net/sVo65/1/\"\n",
       "            frameborder=\"0\"\n",
       "            allowfullscreen\n",
       "            \n",
       "        ></iframe>\n",
       "        "
      ],
      "text/plain": [
       "<IPython.lib.display.IFrame at 0x7fbd1a677890>"
      ]
     },
     "execution_count": 29,
     "metadata": {},
     "output_type": "execute_result"
    }
   ],
   "source": [
    "create_chart(\"Western\")"
   ]
  },
  {
   "cell_type": "code",
   "execution_count": 30,
   "id": "ed9eda19",
   "metadata": {},
   "outputs": [
    {
     "data": {
      "text/html": [
       "\n",
       "        <iframe\n",
       "            width=\"600\"\n",
       "            height=\"400\"\n",
       "            src=\"https://datawrapper.dwcdn.net/wZIAv/1/\"\n",
       "            frameborder=\"0\"\n",
       "            allowfullscreen\n",
       "            \n",
       "        ></iframe>\n",
       "        "
      ],
      "text/plain": [
       "<IPython.lib.display.IFrame at 0x7fbd50e52450>"
      ]
     },
     "execution_count": 30,
     "metadata": {},
     "output_type": "execute_result"
    }
   ],
   "source": [
    "create_chart(\"Eastern\")\n"
   ]
  },
  {
   "cell_type": "code",
   "execution_count": 31,
   "id": "48f88331-8387-4b21-857e-3d02b05dac02",
   "metadata": {},
   "outputs": [
    {
     "name": "stdout",
     "output_type": "stream",
     "text": [
      "Creating chart for the Northwest District\n",
      "Creating chart for the Central District\n",
      "Creating chart for the Western District\n",
      "Creating chart for the Eastern District\n",
      "Creating chart for the Northeast District\n",
      "Creating chart for the Southern District\n",
      "Creating chart for the Southeast District\n",
      "Creating chart for the Northern District\n",
      "Creating chart for the Southwest District\n"
     ]
    }
   ],
   "source": [
    "# Create an empty list to hold the charts\n",
    "chart_list = []\n",
    "\n",
    "# Loop through the unique districts...\n",
    "for district in df.District.dropna().unique():\n",
    "    # Print a message to the console\n",
    "    print(f\"Creating chart for the {district} District\")\n",
    "\n",
    "    # Create a chart for the district and save it as a variable\n",
    "    c = create_chart(district)\n",
    "\n",
    "    # Add the chart to the list\n",
    "    chart_list.append(c)"
   ]
  },
  {
   "cell_type": "code",
   "execution_count": 32,
   "id": "6d7aa3e3-4223-44bd-836c-d64bd5109b0b",
   "metadata": {},
   "outputs": [],
   "source": [
    "from IPython.display import display"
   ]
  },
  {
   "cell_type": "code",
   "execution_count": 33,
   "id": "a7aed078-8468-47a3-942c-4b494fe05cd8",
   "metadata": {},
   "outputs": [
    {
     "data": {
      "text/html": [
       "\n",
       "        <iframe\n",
       "            width=\"600\"\n",
       "            height=\"400\"\n",
       "            src=\"https://datawrapper.dwcdn.net/VGQgn/1/\"\n",
       "            frameborder=\"0\"\n",
       "            allowfullscreen\n",
       "            \n",
       "        ></iframe>\n",
       "        "
      ],
      "text/plain": [
       "<IPython.lib.display.IFrame at 0x7fbd50e53950>"
      ]
     },
     "metadata": {},
     "output_type": "display_data"
    },
    {
     "data": {
      "text/html": [
       "\n",
       "        <iframe\n",
       "            width=\"600\"\n",
       "            height=\"400\"\n",
       "            src=\"https://datawrapper.dwcdn.net/pGS3V/1/\"\n",
       "            frameborder=\"0\"\n",
       "            allowfullscreen\n",
       "            \n",
       "        ></iframe>\n",
       "        "
      ],
      "text/plain": [
       "<IPython.lib.display.IFrame at 0x7fbd0cf24450>"
      ]
     },
     "metadata": {},
     "output_type": "display_data"
    },
    {
     "data": {
      "text/html": [
       "\n",
       "        <iframe\n",
       "            width=\"600\"\n",
       "            height=\"400\"\n",
       "            src=\"https://datawrapper.dwcdn.net/eY3R1/1/\"\n",
       "            frameborder=\"0\"\n",
       "            allowfullscreen\n",
       "            \n",
       "        ></iframe>\n",
       "        "
      ],
      "text/plain": [
       "<IPython.lib.display.IFrame at 0x7fbd19b738d0>"
      ]
     },
     "metadata": {},
     "output_type": "display_data"
    },
    {
     "data": {
      "text/html": [
       "\n",
       "        <iframe\n",
       "            width=\"600\"\n",
       "            height=\"400\"\n",
       "            src=\"https://datawrapper.dwcdn.net/wymBI/1/\"\n",
       "            frameborder=\"0\"\n",
       "            allowfullscreen\n",
       "            \n",
       "        ></iframe>\n",
       "        "
      ],
      "text/plain": [
       "<IPython.lib.display.IFrame at 0x7fbd190e8c50>"
      ]
     },
     "metadata": {},
     "output_type": "display_data"
    },
    {
     "data": {
      "text/html": [
       "\n",
       "        <iframe\n",
       "            width=\"600\"\n",
       "            height=\"400\"\n",
       "            src=\"https://datawrapper.dwcdn.net/ouSaN/1/\"\n",
       "            frameborder=\"0\"\n",
       "            allowfullscreen\n",
       "            \n",
       "        ></iframe>\n",
       "        "
      ],
      "text/plain": [
       "<IPython.lib.display.IFrame at 0x7fbd0cf25890>"
      ]
     },
     "metadata": {},
     "output_type": "display_data"
    },
    {
     "data": {
      "text/html": [
       "\n",
       "        <iframe\n",
       "            width=\"600\"\n",
       "            height=\"400\"\n",
       "            src=\"https://datawrapper.dwcdn.net/m3lKa/1/\"\n",
       "            frameborder=\"0\"\n",
       "            allowfullscreen\n",
       "            \n",
       "        ></iframe>\n",
       "        "
      ],
      "text/plain": [
       "<IPython.lib.display.IFrame at 0x7fbd19292ad0>"
      ]
     },
     "metadata": {},
     "output_type": "display_data"
    },
    {
     "data": {
      "text/html": [
       "\n",
       "        <iframe\n",
       "            width=\"600\"\n",
       "            height=\"400\"\n",
       "            src=\"https://datawrapper.dwcdn.net/cjHkB/1/\"\n",
       "            frameborder=\"0\"\n",
       "            allowfullscreen\n",
       "            \n",
       "        ></iframe>\n",
       "        "
      ],
      "text/plain": [
       "<IPython.lib.display.IFrame at 0x7fbd3977f4d0>"
      ]
     },
     "metadata": {},
     "output_type": "display_data"
    },
    {
     "data": {
      "text/html": [
       "\n",
       "        <iframe\n",
       "            width=\"600\"\n",
       "            height=\"400\"\n",
       "            src=\"https://datawrapper.dwcdn.net/ciVMz/1/\"\n",
       "            frameborder=\"0\"\n",
       "            allowfullscreen\n",
       "            \n",
       "        ></iframe>\n",
       "        "
      ],
      "text/plain": [
       "<IPython.lib.display.IFrame at 0x7fbd0cf28510>"
      ]
     },
     "metadata": {},
     "output_type": "display_data"
    },
    {
     "data": {
      "text/html": [
       "\n",
       "        <iframe\n",
       "            width=\"600\"\n",
       "            height=\"400\"\n",
       "            src=\"https://datawrapper.dwcdn.net/Q04OU/1/\"\n",
       "            frameborder=\"0\"\n",
       "            allowfullscreen\n",
       "            \n",
       "        ></iframe>\n",
       "        "
      ],
      "text/plain": [
       "<IPython.lib.display.IFrame at 0x7fbd0cf2ac90>"
      ]
     },
     "metadata": {},
     "output_type": "display_data"
    }
   ],
   "source": [
    "display(*chart_list)"
   ]
  },
  {
   "cell_type": "code",
   "execution_count": 34,
   "id": "81aec557-73d9-4a69-8564-861460184ded",
   "metadata": {},
   "outputs": [],
   "source": [
    "from datetime import timedelta"
   ]
  },
  {
   "cell_type": "code",
   "execution_count": 35,
   "id": "612fc2af-5f52-44f3-8ec4-5f48fdb60202",
   "metadata": {},
   "outputs": [
    {
     "data": {
      "text/plain": [
       "Timestamp('2023-12-30 22:54:00')"
      ]
     },
     "execution_count": 35,
     "metadata": {},
     "output_type": "execute_result"
    }
   ],
   "source": [
    "df.ArrestDateTime.max()"
   ]
  },
  {
   "cell_type": "code",
   "execution_count": 36,
   "id": "c568dba2-ddec-41a8-842d-e4fe64984001",
   "metadata": {},
   "outputs": [],
   "source": [
    "max_date = df.ArrestDateTime.max()"
   ]
  },
  {
   "cell_type": "code",
   "execution_count": 37,
   "id": "e64dbff1-6fbe-49e2-b9fd-4e733426330d",
   "metadata": {},
   "outputs": [],
   "source": [
    "seven_days_ago = max_date - timedelta(days=7)"
   ]
  },
  {
   "cell_type": "code",
   "execution_count": 38,
   "id": "6b7ae6f2-12fa-4d37-b07a-66ab21bf6d4d",
   "metadata": {},
   "outputs": [
    {
     "data": {
      "text/plain": [
       "Timestamp('2023-12-23 22:54:00')"
      ]
     },
     "execution_count": 38,
     "metadata": {},
     "output_type": "execute_result"
    }
   ],
   "source": [
    "seven_days_ago"
   ]
  },
  {
   "cell_type": "code",
   "execution_count": 39,
   "id": "97709ce2-0973-45ef-bc7f-49ea861b6a13",
   "metadata": {},
   "outputs": [],
   "source": [
    "last_week_df = df[df.ArrestDateTime >= seven_days_ago]"
   ]
  },
  {
   "cell_type": "code",
   "execution_count": 40,
   "id": "a886dfd9-5ff1-4a97-88ee-05e58984fc7b",
   "metadata": {},
   "outputs": [
    {
     "data": {
      "text/plain": [
       "ChargeDescription\n",
       "FAILURE TO APPEAR                 34\n",
       "ASSAULT-SECOND DEGREE             30\n",
       "CONTROLLED SUBSTANCE              20\n",
       "HAND GUN VIOLATION                14\n",
       "ASSAULT-FIRST DEGREE               8\n",
       "                                  ..\n",
       "POSSESION WITH INTENT TO DISTR     1\n",
       "DETAIN ONLY FOR FREDRICKS COUN     1\n",
       "VIOLATION OF PROTECTION ORDER      1\n",
       "ASSAULT- SECOND DEGREE             1\n",
       "TEL MISUSE:REPEAT CALLS            1\n",
       "Name: count, Length: 65, dtype: int64"
      ]
     },
     "execution_count": 40,
     "metadata": {},
     "output_type": "execute_result"
    }
   ],
   "source": [
    "last_week_df.ChargeDescription.value_counts()"
   ]
  },
  {
   "cell_type": "code",
   "execution_count": 41,
   "id": "ff11d6cf-9436-4a92-bf77-e15bfbcee3ea",
   "metadata": {},
   "outputs": [],
   "source": [
    "top_charges_df = (\n",
    "    last_week_df.ChargeDescription.value_counts()\n",
    "        .reset_index()\n",
    "        .head(10)\n",
    ")"
   ]
  },
  {
   "cell_type": "code",
   "execution_count": 42,
   "id": "343ee875-283c-41c9-affd-36d388f5725a",
   "metadata": {},
   "outputs": [],
   "source": [
    "chart = dw.BarChart(\n",
    "    title=f\"Top 10 arrest charges in Baltimore last week\",\n",
    "    data=top_charges_df,  # Note that we're using the top charges DataFrame\n",
    "    base_color=\"#113421\",\n",
    "    thick=True,\n",
    "    source_name=\"OpenBaltimore\",\n",
    "    source_url=\"https://data.baltimorecity.gov/datasets/baltimore::bpd-arrests/about\",\n",
    "    byline=\"Ben Welsh\",\n",
    ")"
   ]
  },
  {
   "cell_type": "code",
   "execution_count": 43,
   "id": "ccc467a1-ae74-41a2-9764-64bcef0240ce",
   "metadata": {},
   "outputs": [
    {
     "data": {
      "text/plain": [
       "'z2YHl'"
      ]
     },
     "execution_count": 43,
     "metadata": {},
     "output_type": "execute_result"
    }
   ],
   "source": [
    "chart.create()"
   ]
  },
  {
   "cell_type": "code",
   "execution_count": 44,
   "id": "36df7c91-89da-48fb-bd7d-a6b46f40d1f7",
   "metadata": {},
   "outputs": [
    {
     "data": {
      "text/plain": [
       "True"
      ]
     },
     "execution_count": 44,
     "metadata": {},
     "output_type": "execute_result"
    }
   ],
   "source": [
    "chart.publish()"
   ]
  },
  {
   "cell_type": "code",
   "execution_count": 45,
   "id": "28c122d7-da9b-4d71-b888-6cb4f2eaa954",
   "metadata": {},
   "outputs": [
    {
     "data": {
      "text/html": [
       "\n",
       "        <iframe\n",
       "            width=\"600\"\n",
       "            height=\"400\"\n",
       "            src=\"https://datawrapper.dwcdn.net/z2YHl/1/\"\n",
       "            frameborder=\"0\"\n",
       "            allowfullscreen\n",
       "            \n",
       "        ></iframe>\n",
       "        "
      ],
      "text/plain": [
       "<IPython.lib.display.IFrame at 0x7fbd191cbe10>"
      ]
     },
     "execution_count": 45,
     "metadata": {},
     "output_type": "execute_result"
    }
   ],
   "source": [
    "chart.display()"
   ]
  }
 ],
 "metadata": {
  "kernelspec": {
   "display_name": "first-automated-chart-y8is6KwL",
   "language": "python",
   "name": "python3"
  },
  "language_info": {
   "codemirror_mode": {
    "name": "ipython",
    "version": 3
   },
   "file_extension": ".py",
   "mimetype": "text/x-python",
   "name": "python",
   "nbconvert_exporter": "python",
   "pygments_lexer": "ipython3",
   "version": "3.11.9"
  }
 },
 "nbformat": 4,
 "nbformat_minor": 5
}
